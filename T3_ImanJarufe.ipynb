{
  "nbformat": 4,
  "nbformat_minor": 0,
  "metadata": {
    "colab": {
      "provenance": []
    },
    "kernelspec": {
      "name": "python3",
      "display_name": "Python 3"
    },
    "language_info": {
      "name": "python"
    }
  },
  "cells": [
    {
      "cell_type": "markdown",
      "source": [
        "# **TAREA 3**\n"
      ],
      "metadata": {
        "id": "cGuYikb4BlSR"
      }
    },
    {
      "cell_type": "markdown",
      "source": [
        "En la presente tarea se solicita trabajar con algoritmos de predicción en donde se debera seleccionar un dataset de mas de 8000 datos el cual corresponde al siguiente https://www.kaggle.com/datasets/rankirsh/evolution-of-top-games-on-twitch\n",
        " para la presente tarea, el cual se tuvo que cambiar con el entregado el dia 6 por el foro de canvas, ya que no me funcionaba nada con el dataset elegido anteriormente.\n",
        "\n",
        "Una vez escogido el dataset se debe entrenar el algoritmo KNN sobre los datos seleccionados y aplicar predicciones con algún (sub)conjunto DISJUNTO de prueba, utilizando 2 métricas (a su elección) de error y compararlas entre sí.\n",
        "\n",
        "Luego se debe entrenar el algoritmo de Regresión Lineal con los mismos datos seleccionados, aplicando también predicciones sobre el mismo (sub)conjunto DISJUNTO de prueba de la parte anterior y elejir alguna métrica de error de entre las dos de la parte anterior y comparar los errores, dando una explicación de qué sucede.\n",
        "\n",
        "Y finalmente, se debe tomar el mismo dataset y entrenar los algoritmos de clasificación, Gaussian Mixture Model, Mean-Shift y DBSCAN y evaluarlos sobre el mismo (sub)conjunto DISJUNTO de las partes mencionadas anteriormente, analizando la diferencia en los resultados entre los algoritmos, indicando y aportando evidencia en la diferencia fundamental (clustering vs. estimación de densidad) que existen entre los tres algoritmos."
      ],
      "metadata": {
        "id": "tiO68t_FBh4u"
      }
    },
    {
      "cell_type": "markdown",
      "source": [
        "Para comenzar esta tarea se realizan los siguientes pasos de manera de importar y  obtener el dataset elegido al igual que en la tarea 1 para su posterior utilización."
      ],
      "metadata": {
        "id": "7DkU0GKwBz5O"
      }
    },
    {
      "cell_type": "code",
      "execution_count": 1,
      "metadata": {
        "id": "tqaAB_vm-06v"
      },
      "outputs": [],
      "source": [
        "!pip install kaggle -q"
      ]
    },
    {
      "cell_type": "code",
      "source": [
        "from google.colab import drive\n",
        "drive.mount('/content/drive')"
      ],
      "metadata": {
        "colab": {
          "base_uri": "https://localhost:8080/"
        },
        "id": "0Pz1dZup-6GI",
        "outputId": "08cfcf16-6822-439e-c5a5-94bf7ef45157"
      },
      "execution_count": 2,
      "outputs": [
        {
          "output_type": "stream",
          "name": "stdout",
          "text": [
            "Drive already mounted at /content/drive; to attempt to forcibly remount, call drive.mount(\"/content/drive\", force_remount=True).\n"
          ]
        }
      ]
    },
    {
      "cell_type": "code",
      "source": [
        "! mkdir ~/.kaggle\n",
        "! cp /content/drive/MyDrive/ColabNotebooks/kaggle/kaggle-2.json ~/.kaggle/kaggle.json\n",
        "! chmod 600 ~/.kaggle/kaggle.json\n",
        "! kaggle datasets download -d rankirsh/evolution-of-top-games-on-twitch"
      ],
      "metadata": {
        "colab": {
          "base_uri": "https://localhost:8080/"
        },
        "id": "oftpXVKe-72H",
        "outputId": "ce9c3b64-dc69-45b1-d023-0a512ad0c25a"
      },
      "execution_count": 3,
      "outputs": [
        {
          "output_type": "stream",
          "name": "stdout",
          "text": [
            "mkdir: cannot create directory ‘/root/.kaggle’: File exists\n",
            "evolution-of-top-games-on-twitch.zip: Skipping, found more recently modified local copy (use --force to force download)\n"
          ]
        }
      ]
    },
    {
      "cell_type": "code",
      "source": [
        "import zipfile\n",
        "with zipfile.ZipFile('evolution-of-top-games-on-twitch.zip', 'r') as zip_ref:\n",
        "    zip_ref.extractall('.')"
      ],
      "metadata": {
        "id": "t12VegG4_BQR"
      },
      "execution_count": 4,
      "outputs": []
    },
    {
      "cell_type": "code",
      "source": [
        "import pandas as pd"
      ],
      "metadata": {
        "id": "wpsB8blHBSsr"
      },
      "execution_count": 5,
      "outputs": []
    },
    {
      "cell_type": "code",
      "source": [
        "dataset = pd.read_csv('Twitch_game_data.csv', encoding='cp1252')\n",
        "print(dataset.shape)\n",
        "print(dataset)\n"
      ],
      "metadata": {
        "colab": {
          "base_uri": "https://localhost:8080/"
        },
        "id": "Eag4A1I8BVqI",
        "outputId": "5a10efa5-70cd-4165-8fed-d2adb69a6821"
      },
      "execution_count": 6,
      "outputs": [
        {
          "output_type": "stream",
          "name": "stdout",
          "text": [
            "(18600, 12)\n",
            "       Rank                              Game  Month  Year  Hours_watched  \\\n",
            "0         1                 League of Legends      1  2016       94377226   \n",
            "1         2  Counter-Strike: Global Offensive      1  2016       47832863   \n",
            "2         3                            Dota 2      1  2016       45185893   \n",
            "3         4                       Hearthstone      1  2016       39936159   \n",
            "4         5       Call of Duty: Black Ops III      1  2016       16153057   \n",
            "...     ...                               ...    ...   ...            ...   \n",
            "18595   196                          PlateUp!      9  2023         560064   \n",
            "18596   197                       PokÃ©mon GO      9  2023         551596   \n",
            "18597   198                       Bloons TD 6      9  2023         540735   \n",
            "18598   199                   Ragnarok Online      9  2023         533644   \n",
            "18599   200                        Bloodborne      9  2023         530610   \n",
            "\n",
            "       Hours_streamed  Peak_viewers  Peak_channels  Streamers  Avg_viewers  \\\n",
            "0             1362044        530270           2903     129172       127021   \n",
            "1              830105        372654           2197     120849        64378   \n",
            "2              433397        315083           1100      44074        60815   \n",
            "3              235903        131357            517      36170        53749   \n",
            "4             1151578         71639           3620     214054        21740   \n",
            "...               ...           ...            ...        ...          ...   \n",
            "18595           18617         16476             71       4034          778   \n",
            "18596           16578          3001             73       3926          767   \n",
            "18597           20142         10320             65       5673          752   \n",
            "18598           27014         11508             68       1144          742   \n",
            "18599           36741         10300             98       6652          737   \n",
            "\n",
            "       Avg_channels  Avg_viewer_ratio  \n",
            "0              1833             69.29  \n",
            "1              1117             57.62  \n",
            "2               583            104.26  \n",
            "3               317            169.29  \n",
            "4              1549             14.03  \n",
            "...             ...               ...  \n",
            "18595            25             30.08  \n",
            "18596            23             33.27  \n",
            "18597            28             26.85  \n",
            "18598            37             19.75  \n",
            "18599            51             14.44  \n",
            "\n",
            "[18600 rows x 12 columns]\n"
          ]
        }
      ]
    },
    {
      "cell_type": "markdown",
      "source": [
        "Una vez mencionado lo anterior, se instalan las distintas librerías y paquetes de Python para llevar a cabo la tarea.\n",
        "\n",
        "Para esto se instala o actualiza las bibliotecas matplotlib, luego importa las bibliotecas matplotlib, pandas, numpy y sklearn con alias específicos para su uso en el código posterior.\n",
        "\n"
      ],
      "metadata": {
        "id": "O_RoPHQSB61e"
      }
    },
    {
      "cell_type": "code",
      "source": [
        "!pip install -U matplotlib -q\n",
        "import matplotlib as plt\n",
        "import pandas as pd\n",
        "import numpy as np\n",
        "from sklearn import datasets"
      ],
      "metadata": {
        "id": "MtS5Xli1Bgvr"
      },
      "execution_count": 7,
      "outputs": []
    },
    {
      "cell_type": "markdown",
      "source": [
        "En la siguiente etapa de código  se separa el dataset en una proporción de 50% para training y 50% para testing, en donde para testing se van las filas impares y para training las filas pares. Una vez implementado esto, se entregan como resultado las dimensiones de los conjuntos de datos de entrada y salida para entrenamiento y prueba, realizando las operaciones necesarias.\n",
        "\n"
      ],
      "metadata": {
        "id": "JY8JpGfy2q7g"
      }
    },
    {
      "cell_type": "code",
      "source": [
        "#Se agrega una nueva columna llamada 'numero_fila' al dataset, en donde la columna contiene numero de filas que van desde 1 hasta la longitud total del conjunto de datos.\n",
        "dataset['numero_fila'] = range(1, len(dataset) + 1)\n",
        "\n",
        "#Se crean dos nuevos dataset, dataset_entrenamiento y dataset_prueba, filtrando las filas de dataset según si el número de fila sea par o impar, respectivamente.\n",
        "#dataset_entrenamiento filas pares y dataset_prueba filas impares.\n",
        "dataset_entrenamiento = dataset[dataset['numero_fila'] % 2 == 0]\n",
        "dataset_prueba = dataset[dataset['numero_fila'] % 2 == 1]\n",
        "\n",
        "#Se extraen las columnas 'Rank','Streamers','Peak_viewers' como arrays NumPy para las variables de entrada (dataset_entrenamiento, dataset_prueba),\n",
        "# y la columna 'Avg_viewers' como arrays NumPy para las variables de salida (dataset_entrenamiento, dataset_prueba).\n",
        "entrada_entrenamiento = np.array(dataset_entrenamiento[['Rank','Streamers','Peak_viewers']])\n",
        "salida_entrenamiento = np.array(dataset_entrenamiento[['Avg_viewers']])\n",
        "entrada_prueba = np.array(dataset_prueba[['Rank','Streamers','Peak_viewers']])\n",
        "salida_prueba = np.array(dataset_prueba[['Avg_viewers']])\n",
        "\n",
        "#Se imprime la forma de cada uno de los arrays creados, proporcionando información sobre el número de filas y columnas en cada array.\n",
        "print(entrada_entrenamiento.shape)\n",
        "print(salida_entrenamiento.shape)\n",
        "print(entrada_prueba.shape)\n",
        "print(salida_prueba.shape)"
      ],
      "metadata": {
        "colab": {
          "base_uri": "https://localhost:8080/"
        },
        "id": "jSHIrAJiCDYb",
        "outputId": "61cec0a3-37db-4281-872f-58b35ee5d826"
      },
      "execution_count": 8,
      "outputs": [
        {
          "output_type": "stream",
          "name": "stdout",
          "text": [
            "(9300, 3)\n",
            "(9300, 1)\n",
            "(9300, 3)\n",
            "(9300, 1)\n"
          ]
        }
      ]
    },
    {
      "cell_type": "markdown",
      "source": [
        "En el siguiente apartado se importan e instalan las librerias necesarias para implementar los modelos de clasificación pedidos en el enunciado.\n",
        "\n",
        "En donde se instala o actualiza la biblioteca scikit-learn.\n",
        "Se importa la biblioteca Matplotlib para la visualización de gráficos, el modelo KNeighborsRegressor de scikit-learn, regresor basado en vecinos más cercanos, el modelo KNeighborsClassifier de scikit-learN, clasificador basado en vecinos más cercanos, el modelo de regresión lineal, DBSCAN y GMM de scikit-learn y finalmente la métrica de error cuadrático medio y la metrica de error maximo."
      ],
      "metadata": {
        "id": "mhHakZ90Bje3"
      }
    },
    {
      "cell_type": "code",
      "source": [
        "!pip install -U scikit-learn -q\n",
        "import matplotlib.pyplot as plt\n",
        "from sklearn.neighbors import KNeighborsRegressor\n",
        "from sklearn.neighbors import KNeighborsClassifier\n",
        "from sklearn.linear_model import LinearRegression\n",
        "from sklearn.cluster import DBSCAN\n",
        "from sklearn.mixture import GaussianMixture\n",
        "from sklearn.metrics import mean_squared_error\n",
        "from sklearn.metrics import max_error"
      ],
      "metadata": {
        "id": "AYSWjaQr6OIB"
      },
      "execution_count": 9,
      "outputs": []
    },
    {
      "cell_type": "markdown",
      "source": [
        "# **ALGORITMO KNN**"
      ],
      "metadata": {
        "id": "HWFxAJckBeDz"
      }
    },
    {
      "cell_type": "markdown",
      "source": [
        "KNN es un algoritmo de aprendizaje supervisado, la idea principal de KNN es  clasificar un nuevo punto de datos basándose en la mayoría de las clases de sus k vecinos más cercanos en el espacio de características.\n",
        "\n",
        "Para este caso, se nos pide entrenar el algoritmo KNN sobre los datos seleccionados y aplicar predicciones con algún (sub)conjunto DISJUNTO de prueba, utilizando 2 métricas de error y compárelas entre sí.\n",
        "\n",
        "Para responder a esto se presenta el siguiente codigo, en donde se toman como métricas de error, el error cuadratico medio y el error máximo residual, dando como valores 319274690.75253284 y 361266.0 respectivamente.\n",
        "\n",
        "Si comparamos estos valores podemos decir lo siguiente:\n",
        "Para la metrica del error cuadratico medio, mientras menor sea, mejor sera el rendimiento del modelo. Mientras que para el error maximo residual un valor mas bajo indica un mejor rendimiento en términos de la peor predicción.\n",
        "\n",
        "Por ende, podemos decir que en terminos de comparación en cuanto a un uso en evaluación, MSE se usa como medida global del rendimiento. Mientras que Error Máximo Residual, se centra en el peor caso y puede ser útil para identificar predicciones extremadamente inexactas. En MSE los errores grandes tienen un impacto siginificativo mientras que en Error Maximo Residual son menos sensibles ya que considera el error maximo.\n",
        "\n",
        "Es por este que tiene sentido que el Error Maximo Residual sea menor al Error Cuadratico Medio entregados los resultados.\n"
      ],
      "metadata": {
        "id": "Di7K8mQJBiyE"
      }
    },
    {
      "cell_type": "code",
      "source": [
        "#Se crea un modelo KNN para regresión con los 6 vecinos más cercanos.\n",
        "KNN = KNeighborsRegressor(n_neighbors=6)\n",
        "\n",
        "#Se entrena el modelo utilizando datos de entrada (entrada_entrenamiento) y sus correspondientes salidas reales (salida_entrenamiento).\n",
        "KNN.fit(entrada_entrenamiento, salida_entrenamiento)\n",
        "\n",
        "#Se utilizan los datos de prueba (entrada_prueba) para realizar predicciones utilizando el modelo.\n",
        "#Almacenan las predicciones en la variable respuesta_prediccion1 y las imprime.\n",
        "respuesta_prediccion1 = KNN.predict(entrada_prueba)\n",
        "print(KNN.predict(entrada_prueba))\n",
        "\n",
        "#Calcula e imprime las 2 metricas de error pedidas en el enunciado. (MSE y Error Maximo Residual en este caso).\n",
        "\n",
        "#Calcula la media de los cuadrados de las diferencias entre los valores reales (salida_prueba) y las predicciones (respuesta_prediccion1).\n",
        "print(\"Error Cuadrático Medio: \", mean_squared_error(salida_prueba , respuesta_prediccion1))\n",
        "\n",
        "#Calcula la diferencia máxima absoluta entre los valores reales y las predicciones.\n",
        "print(\"Error Máximo Residual: \", max_error(salida_prueba , respuesta_prediccion1))"
      ],
      "metadata": {
        "id": "G95s7xwD2web",
        "colab": {
          "base_uri": "https://localhost:8080/"
        },
        "outputId": "3ae203f8-291d-431c-b9c1-4becbea220e4"
      },
      "execution_count": 10,
      "outputs": [
        {
          "output_type": "stream",
          "name": "stdout",
          "text": [
            "[[67910.        ]\n",
            " [55189.33333333]\n",
            " [19190.33333333]\n",
            " ...\n",
            " [  372.        ]\n",
            " [  408.        ]\n",
            " [ 1034.33333333]]\n",
            "Error Cuadrático Medio:  319274690.75253284\n",
            "Error Máximo Residual:  361266.0\n"
          ]
        }
      ]
    },
    {
      "cell_type": "markdown",
      "source": [
        "# **ALGORITMO REGRESIÓN LINEAL**"
      ],
      "metadata": {
        "id": "d6ASLnioAe9t"
      }
    },
    {
      "cell_type": "markdown",
      "source": [
        "La regresión lineal es un algoritmo de aprendizaje supervisado utilizado para predecir el valor de una variable continua (variables dependientes) basándose en una o más variables predictoras (variables independientes). El objetivo de la regresión lineal es encontrar la mejor línea que se ajuste a los datos de entrenamiento.\n",
        "\n",
        "Para este caso, se nos solicita entrenar el algoritmo de Regresión Lineal con los mismos datos seleccionados, aplicando también predicciones sobre el mismo (sub)conjunto DISJUNTO de prueba de la parte anterior. y elijiento alguna en KNN explicando que sucede.\n",
        "\n",
        "Como se menciono anteriormente, este algoritmo tiene como objetivo encontrar la mejor linea que se ajuste a los datos de entrenamiento. Para este caso se tomaron los datos de entrenamiento 'Rank', 'Streamers', 'Peak_viewers', entonces para demostrar que se acerca a una linea recta en la segunda característica de la entrada_prueba el cual corresponde a los streamers, se grafica representando lo mencionado.\n",
        "\n",
        "Ademas, se toma como metrica el error cuadratico medio, el cual tiene un valor de 318662359.4903684, de este valor en comparación con el valor obtenido en KNN se puede apreciar que se acerca muchisimo bajo la misma métrica, variando netamente en un numero muy pequeño, lo cual puede explicarse ya que se esta trabajando con los mismos datos en ambos casos."
      ],
      "metadata": {
        "id": "zt-7_DKBBwBP"
      }
    },
    {
      "cell_type": "code",
      "source": [
        "#Se crea una instancia del modelo de regresión lineal (LinearRegression()).\n",
        "regresion_lineal = LinearRegression()\n",
        "\n",
        "#El modelo se entrena utilizando el conjunto de entrenamiento.\n",
        "regresion_lineal.fit(entrada_entrenamiento, salida_entrenamiento)\n",
        "\n",
        "#Se utilizan las características del conjunto de prueba (entrada_prueba) para predecir los valores de la variable dependiente utilizando el método predict del modelo de regresión lineal.\n",
        "#Las predicciones se imprimen y se almacenan en la variable respuesta_prediccion2.\n",
        "print(regresion_lineal.predict(entrada_prueba))\n",
        "respuesta_prediccion2 = regresion_lineal.predict(entrada_prueba)\n",
        "\n",
        "#Se calcula el Error Cuadrático Medio comparando las predicciones (respuesta_prediccion2) con las etiquetas reales del conjunto de prueba (salida_prueba).\n",
        "print(\"Error Cuadrático Medio: \", mean_squared_error(salida_prueba , respuesta_prediccion2))\n"
      ],
      "metadata": {
        "colab": {
          "base_uri": "https://localhost:8080/"
        },
        "id": "rgMvJz64ATjn",
        "outputId": "2c5c1f4b-1830-40c5-c51d-b875a1538a54"
      },
      "execution_count": 11,
      "outputs": [
        {
          "output_type": "stream",
          "name": "stdout",
          "text": [
            "[[57129.84624048]\n",
            " [30614.35928057]\n",
            " [41480.5284498 ]\n",
            " ...\n",
            " [-3972.51752275]\n",
            " [-3348.11195023]\n",
            " [-3333.02771245]]\n",
            "Error Cuadrático Medio:  318662359.4903684\n"
          ]
        }
      ]
    },
    {
      "cell_type": "code",
      "source": [
        "#Gráfico de dispersión para la segunda característica de entrada_prueba\n",
        "plt.figure(1)\n",
        "plt.plot(entrada_prueba[:,1],respuesta_prediccion2)\n",
        "plt.xlabel('Testing')\n",
        "plt.ylabel('Training')\n",
        "plt.show()"
      ],
      "metadata": {
        "colab": {
          "base_uri": "https://localhost:8080/",
          "height": 449
        },
        "id": "bEk-e436Jbty",
        "outputId": "f4faf0b7-273d-46c0-d390-998b6dfabc8a"
      },
      "execution_count": 12,
      "outputs": [
        {
          "output_type": "display_data",
          "data": {
            "text/plain": [
              "<Figure size 640x480 with 1 Axes>"
            ],
            "image/png": "[encoded data removed]"
          },
          "metadata": {}
        }
      ]
    },
    {
      "cell_type": "markdown",
      "source": [
        "# **ALGORITMOS DE CLASIFICACIÓN**"
      ],
      "metadata": {
        "id": "IZ8L9Ei1ArpV"
      }
    },
    {
      "cell_type": "markdown",
      "source": [
        "Para esta parte se solicita usar el mismo dataset y entrenar 3 algoritmos de clasificación,Gaussian Mixture Model, Mean-Shift y DBSCAN evaluando estos sobre\n",
        "los mismo (sub)conjunto DISJUNTO de las partes 1 y 2, analizando la diferencia en los resultados.\n",
        "\n",
        "Ademas, se pide indicar y aportar evidencia en la diferencia fundamental (clustering vs. estimación de densidad) que existen entre los tres algoritmos"
      ],
      "metadata": {
        "id": "G_bIBMh_EH-Q"
      }
    },
    {
      "cell_type": "markdown",
      "source": [
        "**Gaussian Mixture Model**"
      ],
      "metadata": {
        "id": "DEti8f-FAvtm"
      }
    },
    {
      "cell_type": "markdown",
      "source": [
        "GMM es un método de clustering probabilístico y flexible que modela la distribución de datos como una mezcla de gaussianas, y utiliza el algoritmo EM para ajustar sus parámetros.\n",
        "\n",
        "Para este algoritmo se espera clasificar los datos entregados como parámetros Rank, Streamers, Peak_viewers e identificar cual es el que aporta más a la predicción del parámetro Avg_viewers. Y para entrenarlo se presenta el siguiente codigo en donde se toman 3 cluster, una matriz de covarianza del modelo completa y un parametro que inicializa los parametros del modelo utilizando un algoritmo K-means obteniendo como respuesta luego de realizar las predicciones las etiquetas de cluster asignadas a cada punto de datos en los datos de prueba."
      ],
      "metadata": {
        "id": "bMDU0MrlNfhU"
      }
    },
    {
      "cell_type": "code",
      "source": [
        "#Se crea un objeto GaussianMixture llamado GMM con los siguientes parametros.\n",
        "#n_components=3, indica que se desea ajustar tres componentes (clusters).\n",
        "#covariance_type=\"full\", especifica que la matriz de covarianza del modelo es completa, es decir, no hace suposiciones sobre la independencia entre las variables.\n",
        "#init_params=\"kmeans\", inicializa los parámetros del modelo utilizando el algoritmo K-means.\n",
        "GMM = GaussianMixture(n_components=3, covariance_type=\"full\", init_params=\"kmeans\")\n",
        "\n",
        "#Se entrenar el modelo GMM con los datos de entrada de entrenamiento (entrada_entrenamiento) y las salidas correspondientes (salida_entrenamiento).\n",
        "GMM.fit(entrada_entrenamiento, salida_entrenamiento)\n",
        "\n",
        "#Se accede a las medias de las componentes gaussianas aprendidas durante el entrenamiento.\n",
        "GMM.means_\n",
        "\n",
        "#Se realizan las predicciones en los datos de prueba (entrada_prueba) y el resultado se almacena en la variable resultado_prediccion3.\n",
        "resultado_prediccion3 = GMM.predict(entrada_prueba)\n",
        "\n",
        "#Se imprime la variable resultado_prediccion3 la cual contiene las etiquetas de cluster asignadas a cada punto de datos en los datos de prueba.\n",
        "print(resultado_prediccion3)"
      ],
      "metadata": {
        "colab": {
          "base_uri": "https://localhost:8080/"
        },
        "id": "IQaWuF12hHV0",
        "outputId": "e2d2e2bd-53c3-4ade-baa8-a58adaef045f"
      },
      "execution_count": 13,
      "outputs": [
        {
          "output_type": "stream",
          "name": "stdout",
          "text": [
            "[1 1 1 ... 0 0 0]\n"
          ]
        }
      ]
    },
    {
      "cell_type": "markdown",
      "source": [
        "**DBSCAN**"
      ],
      "metadata": {
        "id": "26pj2svTA398"
      }
    },
    {
      "cell_type": "markdown",
      "source": [
        "DBSCAN (Density-Based Spatial Clustering of Applications with Noise) es un algoritmo de clustering no supervisado que agrupa puntos de datos basándose en la densidad de sus vecindarios.\n",
        "\n",
        "Para entrenar el modelo se presenta el siguiente codigo, en donde se definen sus varibles eps o epsilon que corresponde al radio alrededor de un punto central y un min_samples o numero minimo de muestras que corresponde a donde se busca un numero para considerarlo como nucleo del clustes, obteniendo luego de la prediccion las asignaciones de cluster generadas por el algoritmo para los datos de prueba.\n"
      ],
      "metadata": {
        "id": "by3sQBlmNhgM"
      }
    },
    {
      "cell_type": "code",
      "source": [
        "#Se crea un objeto DBSCAN con un valor de epsilon (eps) de 0.5 y un número mínimo de muestras (min_samples) de 20.\n",
        "#eps define el radio alrededor de un punto central dentro del cual se busca un número mínimo de puntos (min_samples) para considerar ese punto como núcleo de un cluster.\n",
        "dbscan = DBSCAN(eps=0.5, min_samples=20)\n",
        "\n",
        "#se entrena utilizando los datos de entrada de entrenamiento (entrada_entrenamiento). Ya que no es necesario proporcionar las de salida puesto que es un algoritmo no supervisado.\n",
        "dbscan.fit(entrada_entrenamiento)\n",
        "\n",
        "# Se realiza la predicción de las asignaciones de clusters en los datos de prueba (entrada_prueba).\n",
        "resultado_prediccion4 = dbscan.fit_predict(entrada_prueba)\n",
        "\n",
        "#Imprime las asignaciones de clusters generadas por DBSCAN para los datos de prueba.\n",
        "print(resultado_prediccion4)"
      ],
      "metadata": {
        "colab": {
          "base_uri": "https://localhost:8080/"
        },
        "id": "POeURrGRJP3i",
        "outputId": "b98b4dcc-21a1-4e4c-8e04-30f16991af27"
      },
      "execution_count": 14,
      "outputs": [
        {
          "output_type": "stream",
          "name": "stdout",
          "text": [
            "[-1 -1 -1 ... -1 -1 -1]\n"
          ]
        }
      ]
    },
    {
      "cell_type": "markdown",
      "source": [
        "**Mean Shift**\n"
      ],
      "metadata": {
        "id": "5o3PD_yJFtBu"
      }
    },
    {
      "cell_type": "markdown",
      "source": [
        "Mean Shift es un algoritmo de clustering que busca automáticamente los centroides de alta densidad en un conjunto de datos para identificar las regiones densas.\n",
        "\n",
        "\n",
        "En el presente codigo se entrena en algoritmo Mean shift en donde se crea la instancia del modelo Mean Shift y lo entrena el modelo utilizando datos de entrada de entrenamiento. Luego accede a los centroides los cuales representan las ubicaciones finales de los clusters, realiza predicciones en un conjunto de datos de prueba y almacena las etiquetas de cluster asignadas a cada punto de datos en la variable resultado_prediccion5 e imprime estas etiquetas,proporcionando información sobre la pertenencia de cada punto de datos a un cluster específico según el modelo Mean Shift entrenado."
      ],
      "metadata": {
        "id": "v31nX-F1FrCI"
      }
    },
    {
      "cell_type": "code",
      "source": [
        "from sklearn.cluster import MeanShift\n",
        "\n",
        "#Se crea una instancia del modelo Mean Shift.\n",
        "mean_shift = MeanShift()\n",
        "\n",
        "#Se entrena el modelo Mean Shift con los datos de entrada de entrenamiento\n",
        "mean_shift.fit(entrada_entrenamiento)\n",
        "\n",
        "#Se accede a los centroides (o modas) aprendidos durante el entrenamiento.\n",
        "centroides = mean_shift.cluster_centers_\n",
        "\n",
        "#Se realizan las predicciones en los datos de prueba.\n",
        "resultado_prediccion5 = mean_shift.predict(entrada_prueba)\n",
        "\n",
        "#Se imprime las etiquetas de cluster asignadas a cada punto de datos en los datos de prueba.\n",
        "print(resultado_prediccion5)"
      ],
      "metadata": {
        "id": "WuorFbDXFsb9",
        "colab": {
          "base_uri": "https://localhost:8080/"
        },
        "outputId": "a380f8b0-3550-42aa-99ee-7b7445d57ae9"
      },
      "execution_count": 15,
      "outputs": [
        {
          "output_type": "stream",
          "name": "stdout",
          "text": [
            "[9 1 7 ... 0 0 0]\n"
          ]
        }
      ]
    },
    {
      "cell_type": "markdown",
      "source": [
        "**ANALISIS DE LOS ALGORITMOS DE CLASIFICACIÓN**"
      ],
      "metadata": {
        "id": "h7Sh0Uj7kiYD"
      }
    },
    {
      "cell_type": "markdown",
      "source": [
        "Para comenzar con el analisis se debe decir que los tres algoritmos predicen distintos valores para las etiqutas, ya que son algoritmos diferentes.\n",
        "\n",
        "Si los comparamos en cuanto a la diferencia fundamental (clustering vs. estimación de densidad). GMM modela datos como una mezcla de gaussianas, es probabilístico y asume una forma paramétrica para los clusters. DBSCAN utiliza la densidad para definir clusters, es no paramétrico y no asume una forma particular para los clusters y Mean Shift busca modas en los datos, es no paramétrico y no asume una forma particular para los clusters.\n",
        "\n",
        "En cuanto a los resultados podemos decir que existen diferencias importantes entre ellos. Por ejemplo, DBSCAN puede utilizar valores negativos para indicar las etiquetas obtenidas, en donde estos valores negativos representan los puntos de ruido, es decir puntos que no pertenecen a ningun cluster, mientras que GMM y Mean Shift utilizan valores mayores o iguales a cero, pero no negativos como se demostro al generarlos. Ademas GMM trabaja con EM por ende puede trabajar con distribuciones de  datos ocultos a diferencia de DBSCAN que puede trabajar solo con distribuciónes de datos visibles para poder trabajar.\n",
        "\n",
        "Mencionado esto, se realiza un analisis detallado de las multiples diferencias que presenta cada algoritmo.\n",
        "\n",
        "**DBSCAN**\n",
        "1. agrupa puntos basandose en la densidad de los datos, es decir, forma un grupo alrededor de un punto central si hay suficientes puntos dentro de un distancia determinada.\n",
        "2. Sus clusters pueden ser de diferentes formas y tamaños\n",
        "3. Puede identificar puntos de ruido, es decir, puntos que no estan dentro de ingun cluster.\n",
        "4. Tiene dos parametros principales, la distancia máxima entre dos puntos para ser considerados parte del mismo cluster y el número mínimo de puntos dentro de esa distancia para formar un cluster.\n",
        "\n",
        "**GMM**\n",
        "\n",
        "1. Modela cada cluster como una distribución gaussiana y la mezcla de estas distribuciones corresponde alconjunto completo de datos.\n",
        "2. Flexibilidad de formas de cluster, ya que cada componente gaussiano puede tener su propia forma.\n",
        "3. Asigna probabilidades a la pertenencia de un punto a cada cluster.\n",
        "4. Requiere de parametros como el número de componentes gaussianos y los parámetros de cada componente (media, covarianza).\n",
        "\n",
        "**MEAN SHIFT**\n",
        "\n",
        "1. A diferencia de DBSCAN y GMM, Mean Shift no requiere especificar de antemano el número de clusters, ya que encuentra automáticamente el número de clusters basándose en las densidades de datos.\n",
        "2. Se adapta a formas irregulares de clusters debido a su enfoque basado en densidades locales.\n",
        "3. El tamaño del kernel afecta a los resultados, ya que determina la escala a la que se evalua la densidad.\n",
        "4. Agrupa puntos moviendo el kernel ponderando hacia regiones de mayor densidad en el espacio.\n",
        "\n",
        "Finalmente, podemos decir que al momento de elegir alguno mas eficiente va a variar mucho de la naturaleza de los datos y de los objetivos relacionados a los resultados, ya que cada algoritmo trabaja de manera diferente.\n",
        "\n",
        "\n"
      ],
      "metadata": {
        "id": "THDDSY9PFCs4"
      }
    }
  ]
}